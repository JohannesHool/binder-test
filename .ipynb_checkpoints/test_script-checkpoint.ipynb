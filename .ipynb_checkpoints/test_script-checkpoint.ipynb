{
 "cells": [
  {
   "cell_type": "markdown",
   "metadata": {},
   "source": [
    "# Binder Test"
   ]
  },
  {
   "cell_type": "markdown",
   "metadata": {},
   "source": [
    "## Versuch mit TigerJython-Klon\n",
    "\n",
    "*gturtle* ist kein durch Pip verwaltetes modul, sondern wird durch das *gturtle.py-Skript* importiert"
   ]
  },
  {
   "cell_type": "code",
   "execution_count": 1,
   "metadata": {},
   "outputs": [
    {
     "data": {
      "text/html": [
       "<canvas id=\"drawCanvas1\" width=\"600\" height=\"600\"></canvas>"
      ],
      "text/plain": [
       "<IPython.core.display.HTML object>"
      ]
     },
     "metadata": {},
     "output_type": "display_data"
    },
    {
     "data": {
      "application/javascript": [
       "var cnv = document.getElementById(\"drawCanvas1\");\n",
       "var ctx = cnv.getContext(\"2d\");\n",
       "ctx.lineWidth = 1;\n",
       "ctx.strokeStyle = \"blue\";\n",
       "ctx.fillStyle = \"cyan\";"
      ],
      "text/plain": [
       "<IPython.core.display.Javascript object>"
      ]
     },
     "metadata": {},
     "output_type": "display_data"
    },
    {
     "data": {
      "application/javascript": [
       "var cnv = document.getElementById(\"drawCanvas1\");\n",
       "var ctx = cnv.getContext(\"2d\");\n",
       "ctx.moveTo(300.0, 300.0);"
      ],
      "text/plain": [
       "<IPython.core.display.Javascript object>"
      ]
     },
     "metadata": {},
     "output_type": "display_data"
    },
    {
     "data": {
      "application/javascript": [
       "var c = document.getElementById(\"drawCanvas1\");\n",
       "var ctx = c.getContext(\"2d\");\n",
       "ctx.lineTo(300.0, 250.0);\n",
       "ctx.stroke();"
      ],
      "text/plain": [
       "<IPython.core.display.Javascript object>"
      ]
     },
     "metadata": {},
     "output_type": "display_data"
    },
    {
     "data": {
      "application/javascript": [
       "var c = document.getElementById(\"drawCanvas1\");\n",
       "var ctx = c.getContext(\"2d\");\n",
       "ctx.lineTo(329.38926261462365, 209.54915028125262);\n",
       "ctx.stroke();"
      ],
      "text/plain": [
       "<IPython.core.display.Javascript object>"
      ]
     },
     "metadata": {},
     "output_type": "display_data"
    },
    {
     "data": {
      "application/javascript": [
       "var c = document.getElementById(\"drawCanvas1\");\n",
       "var ctx = c.getContext(\"2d\");\n",
       "ctx.lineTo(376.94208842938133, 194.09830056250524);\n",
       "ctx.stroke();"
      ],
      "text/plain": [
       "<IPython.core.display.Javascript object>"
      ]
     },
     "metadata": {},
     "output_type": "display_data"
    },
    {
     "data": {
      "application/javascript": [
       "var c = document.getElementById(\"drawCanvas1\");\n",
       "var ctx = c.getContext(\"2d\");\n",
       "ctx.lineTo(424.494914244139, 209.54915028125262);\n",
       "ctx.stroke();"
      ],
      "text/plain": [
       "<IPython.core.display.Javascript object>"
      ]
     },
     "metadata": {},
     "output_type": "display_data"
    },
    {
     "data": {
      "application/javascript": [
       "var c = document.getElementById(\"drawCanvas1\");\n",
       "var ctx = c.getContext(\"2d\");\n",
       "ctx.lineTo(453.88417685876266, 250.0);\n",
       "ctx.stroke();"
      ],
      "text/plain": [
       "<IPython.core.display.Javascript object>"
      ]
     },
     "metadata": {},
     "output_type": "display_data"
    },
    {
     "data": {
      "application/javascript": [
       "var c = document.getElementById(\"drawCanvas1\");\n",
       "var ctx = c.getContext(\"2d\");\n",
       "ctx.lineTo(453.88417685876266, 300.0);\n",
       "ctx.stroke();"
      ],
      "text/plain": [
       "<IPython.core.display.Javascript object>"
      ]
     },
     "metadata": {},
     "output_type": "display_data"
    },
    {
     "data": {
      "application/javascript": [
       "var c = document.getElementById(\"drawCanvas1\");\n",
       "var ctx = c.getContext(\"2d\");\n",
       "ctx.lineTo(424.494914244139, 340.45084971874735);\n",
       "ctx.stroke();"
      ],
      "text/plain": [
       "<IPython.core.display.Javascript object>"
      ]
     },
     "metadata": {},
     "output_type": "display_data"
    },
    {
     "data": {
      "application/javascript": [
       "var c = document.getElementById(\"drawCanvas1\");\n",
       "var ctx = c.getContext(\"2d\");\n",
       "ctx.lineTo(376.94208842938133, 355.9016994374947);\n",
       "ctx.stroke();"
      ],
      "text/plain": [
       "<IPython.core.display.Javascript object>"
      ]
     },
     "metadata": {},
     "output_type": "display_data"
    },
    {
     "data": {
      "application/javascript": [
       "var c = document.getElementById(\"drawCanvas1\");\n",
       "var ctx = c.getContext(\"2d\");\n",
       "ctx.lineTo(329.38926261462365, 340.4508497187473);\n",
       "ctx.stroke();"
      ],
      "text/plain": [
       "<IPython.core.display.Javascript object>"
      ]
     },
     "metadata": {},
     "output_type": "display_data"
    },
    {
     "data": {
      "application/javascript": [
       "var c = document.getElementById(\"drawCanvas1\");\n",
       "var ctx = c.getContext(\"2d\");\n",
       "ctx.lineTo(300.0, 299.99999999999994);\n",
       "ctx.stroke();"
      ],
      "text/plain": [
       "<IPython.core.display.Javascript object>"
      ]
     },
     "metadata": {},
     "output_type": "display_data"
    }
   ],
   "source": [
    "from gturtle import *\n",
    "\n",
    "makeTurtle()\n",
    "\n",
    "for i in range(10):\n",
    "    forward(50)\n",
    "    right(36)"
   ]
  },
  {
   "cell_type": "markdown",
   "metadata": {},
   "source": [
    "## Versuch mit Mobilecholonian\n",
    "\n",
    "Verwendet das mobilecholonian-Modul (https://github.com/takluyver/mobilechelonian)"
   ]
  },
  {
   "cell_type": "code",
   "execution_count": 2,
   "metadata": {},
   "outputs": [
    {
     "data": {
      "application/vnd.jupyter.widget-view+json": {
       "model_id": "342b4e920b104812b15e0b335691470e",
       "version_major": 2,
       "version_minor": 0
      },
      "text/plain": [
       "Turtle()"
      ]
     },
     "metadata": {},
     "output_type": "display_data"
    }
   ],
   "source": [
    "from mobilechelonian import Turtle\n",
    "\n",
    "t = Turtle()\n",
    "\n",
    "for i in range(10):\n",
    "    t.forward(50)\n",
    "    t.right(36)\n"
   ]
  },
  {
   "cell_type": "markdown",
   "metadata": {},
   "source": []
  },
  {
   "cell_type": "markdown",
   "metadata": {},
   "source": [
    "## Versuch mit Canvas-Zeichnungen mit ipycanvas\n",
    "\n",
    "*jupyter nbextension enable --py widgetsnbextension* wird im post build auf Binderhub aufgerufen"
   ]
  },
  {
   "cell_type": "code",
   "execution_count": 3,
   "metadata": {},
   "outputs": [
    {
     "data": {
      "application/vnd.jupyter.widget-view+json": {
       "model_id": "dfa4239f4be14bbfbd9d92bcc042606b",
       "version_major": 2,
       "version_minor": 0
      },
      "text/plain": [
       "Canvas(height=600, width=600)"
      ]
     },
     "metadata": {},
     "output_type": "display_data"
    }
   ],
   "source": [
    "import random\n",
    "from ipycanvas import Canvas\n",
    "\n",
    "sideLength = 600\n",
    "squareMax = sideLength/3\n",
    "colors = ['red', 'green', 'blue', 'yellow']\n",
    "\n",
    "canvas = Canvas(width=sideLength, height=sideLength)\n",
    "canvas.global_alpha = 0.3\n",
    "\n",
    "for i in range(300):\n",
    "    \n",
    "    canvas.fill_style = colors[random.randint(0, len(colors)-1)]\n",
    "    \n",
    "    canvas.fill_rect(random.randint(0, sideLength - squareMax),\\\n",
    "                     random.randint(0, sideLength - squareMax),\\\n",
    "                     random.randint(0, squareMax))\n",
    "    \n",
    "canvas\n"
   ]
  }
 ],
 "metadata": {
  "kernelspec": {
   "display_name": "Python 3",
   "language": "python",
   "name": "python3"
  },
  "language_info": {
   "codemirror_mode": {
    "name": "ipython",
    "version": 3
   },
   "file_extension": ".py",
   "mimetype": "text/x-python",
   "name": "python",
   "nbconvert_exporter": "python",
   "pygments_lexer": "ipython3",
   "version": "3.8.5"
  }
 },
 "nbformat": 4,
 "nbformat_minor": 2
}
