{
 "cells": [
  {
   "cell_type": "markdown",
   "metadata": {},
   "source": [
    "# Binder Test"
   ]
  },
  {
   "cell_type": "markdown",
   "metadata": {},
   "source": [
    "## Versuch mit TigerJython-Klon\n",
    "\n",
    "*gturtle* ist kein durch Pip verwaltetes modul, sondern wird durch das *gturtle.py-Skript* importiert"
   ]
  },
  {
   "cell_type": "code",
   "execution_count": null,
   "metadata": {},
   "outputs": [],
   "source": [
    "from gturtle import *\n",
    "\n",
    "makeTurtle()\n",
    "\n",
    "for i in range(10):\n",
    "    forward(50)\n",
    "    right(36)"
   ]
  },
  {
   "cell_type": "markdown",
   "metadata": {},
   "source": [
    "## Versuch mit Mobilecholonian\n",
    "\n",
    "Verwendet das mobilecholonian-Modul (https://github.com/takluyver/mobilechelonian)"
   ]
  },
  {
   "cell_type": "code",
   "execution_count": null,
   "metadata": {},
   "outputs": [],
   "source": [
    "from mobilechelonian import Turtle\n",
    "\n",
    "t = Turtle()\n",
    "\n",
    "for i in range(10):\n",
    "    t.forward(50)\n",
    "    t.right(36)\n"
   ]
  },
  {
   "cell_type": "markdown",
   "metadata": {},
   "source": []
  },
  {
   "cell_type": "markdown",
   "metadata": {},
   "source": [
    "## Versuch mit Canvas-Zeichnungen mit ipycanvas\n",
    "\n",
    "*jupyter nbextension enable --py widgetsnbextension* wird im post build auf Binderhub aufgerufen"
   ]
  },
  {
   "cell_type": "code",
   "execution_count": null,
   "metadata": {},
   "outputs": [],
   "source": [
    "import random\n",
    "from ipycanvas import Canvas\n",
    "\n",
    "sideLength = 600\n",
    "squareMax = sideLength/3\n",
    "colors = ['red', 'green', 'blue', 'yellow']\n",
    "\n",
    "canvas = Canvas(width=sideLength, height=sideLength)\n",
    "canvas.global_alpha = 0.3\n",
    "\n",
    "for i in range(300):\n",
    "    \n",
    "    canvas.fill_style = colors[random.randint(0, len(colors)-1)]\n",
    "    \n",
    "    canvas.fill_rect(random.randint(0, sideLength - squareMax),\\\n",
    "                     random.randint(0, sideLength - squareMax),\\\n",
    "                     random.randint(0, squareMax))\n",
    "    \n",
    "canvas\n"
   ]
  }
 ],
 "metadata": {
  "kernelspec": {
   "display_name": "Python 3",
   "language": "python",
   "name": "python3"
  },
  "language_info": {
   "codemirror_mode": {
    "name": "ipython",
    "version": 3
   },
   "file_extension": ".py",
   "mimetype": "text/x-python",
   "name": "python",
   "nbconvert_exporter": "python",
   "pygments_lexer": "ipython3",
   "version": "3.8.5"
  }
 },
 "nbformat": 4,
 "nbformat_minor": 2
}
