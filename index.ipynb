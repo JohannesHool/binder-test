{
 "cells": [
  {
   "cell_type": "markdown",
   "metadata": {},
   "source": [
    "# Welcome to an example Binder"
   ]
  },
  {
   "cell_type": "code",
   "execution_count": 2,
   "metadata": {},
   "outputs": [
    {
     "name": "stdout",
     "output_type": "stream",
     "text": [
      "Requirement already satisfied: ipyturtle in c:\\users\\hoolj\\appdata\\local\\programs\\python\\python38-32\\lib\\site-packages (0.2.4)\n",
      "Requirement already satisfied: ipywidgets>=7.0.0 in c:\\users\\hoolj\\appdata\\local\\programs\\python\\python38-32\\lib\\site-packages (from ipyturtle) (7.5.1)\n",
      "Requirement already satisfied: ipykernel>=4.5.1 in c:\\users\\hoolj\\appdata\\local\\programs\\python\\python38-32\\lib\\site-packages (from ipywidgets>=7.0.0->ipyturtle) (5.3.0)\n",
      "Requirement already satisfied: nbformat>=4.2.0 in c:\\users\\hoolj\\appdata\\local\\programs\\python\\python38-32\\lib\\site-packages (from ipywidgets>=7.0.0->ipyturtle) (5.0.7)\n",
      "Requirement already satisfied: widgetsnbextension~=3.5.0 in c:\\users\\hoolj\\appdata\\local\\programs\\python\\python38-32\\lib\\site-packages (from ipywidgets>=7.0.0->ipyturtle) (3.5.1)\n",
      "Requirement already satisfied: traitlets>=4.3.1 in c:\\users\\hoolj\\appdata\\local\\programs\\python\\python38-32\\lib\\site-packages (from ipywidgets>=7.0.0->ipyturtle) (4.3.3)\n",
      "Requirement already satisfied: ipython>=4.0.0; python_version >= \"3.3\" in c:\\users\\hoolj\\appdata\\local\\programs\\python\\python38-32\\lib\\site-packages (from ipywidgets>=7.0.0->ipyturtle) (7.16.1)\n",
      "Requirement already satisfied: tornado>=4.2 in c:\\users\\hoolj\\appdata\\local\\programs\\python\\python38-32\\lib\\site-packages (from ipykernel>=4.5.1->ipywidgets>=7.0.0->ipyturtle) (6.0.4)\n",
      "Requirement already satisfied: jupyter-client in c:\\users\\hoolj\\appdata\\local\\programs\\python\\python38-32\\lib\\site-packages (from ipykernel>=4.5.1->ipywidgets>=7.0.0->ipyturtle) (6.1.3)\n",
      "Requirement already satisfied: jsonschema!=2.5.0,>=2.4 in c:\\users\\hoolj\\appdata\\local\\programs\\python\\python38-32\\lib\\site-packages (from nbformat>=4.2.0->ipywidgets>=7.0.0->ipyturtle) (3.2.0)\n",
      "Requirement already satisfied: jupyter-core in c:\\users\\hoolj\\appdata\\local\\programs\\python\\python38-32\\lib\\site-packages (from nbformat>=4.2.0->ipywidgets>=7.0.0->ipyturtle) (4.6.3)\n",
      "Requirement already satisfied: ipython-genutils in c:\\users\\hoolj\\appdata\\local\\programs\\python\\python38-32\\lib\\site-packages (from nbformat>=4.2.0->ipywidgets>=7.0.0->ipyturtle) (0.2.0)\n",
      "Requirement already satisfied: notebook>=4.4.1 in c:\\users\\hoolj\\appdata\\local\\programs\\python\\python38-32\\lib\\site-packages (from widgetsnbextension~=3.5.0->ipywidgets>=7.0.0->ipyturtle) (6.0.3)\n",
      "Requirement already satisfied: decorator in c:\\users\\hoolj\\appdata\\local\\programs\\python\\python38-32\\lib\\site-packages (from traitlets>=4.3.1->ipywidgets>=7.0.0->ipyturtle) (4.4.2)\n",
      "Requirement already satisfied: six in c:\\users\\hoolj\\appdata\\local\\programs\\python\\python38-32\\lib\\site-packages (from traitlets>=4.3.1->ipywidgets>=7.0.0->ipyturtle) (1.15.0)\n",
      "Requirement already satisfied: backcall in c:\\users\\hoolj\\appdata\\local\\programs\\python\\python38-32\\lib\\site-packages (from ipython>=4.0.0; python_version >= \"3.3\"->ipywidgets>=7.0.0->ipyturtle) (0.2.0)\n",
      "Requirement already satisfied: setuptools>=18.5 in c:\\users\\hoolj\\appdata\\local\\programs\\python\\python38-32\\lib\\site-packages (from ipython>=4.0.0; python_version >= \"3.3\"->ipywidgets>=7.0.0->ipyturtle) (41.2.0)\n",
      "Requirement already satisfied: pickleshare in c:\\users\\hoolj\\appdata\\local\\programs\\python\\python38-32\\lib\\site-packages (from ipython>=4.0.0; python_version >= \"3.3\"->ipywidgets>=7.0.0->ipyturtle) (0.7.5)\n",
      "Requirement already satisfied: jedi>=0.10 in c:\\users\\hoolj\\appdata\\local\\programs\\python\\python38-32\\lib\\site-packages (from ipython>=4.0.0; python_version >= \"3.3\"->ipywidgets>=7.0.0->ipyturtle) (0.17.1)\n",
      "Requirement already satisfied: pygments in c:\\users\\hoolj\\appdata\\local\\programs\\python\\python38-32\\lib\\site-packages (from ipython>=4.0.0; python_version >= \"3.3\"->ipywidgets>=7.0.0->ipyturtle) (2.6.1)\n",
      "Requirement already satisfied: prompt-toolkit!=3.0.0,!=3.0.1,<3.1.0,>=2.0.0 in c:\\users\\hoolj\\appdata\\local\\programs\\python\\python38-32\\lib\\site-packages (from ipython>=4.0.0; python_version >= \"3.3\"->ipywidgets>=7.0.0->ipyturtle) (3.0.5)\n",
      "Requirement already satisfied: colorama; sys_platform == \"win32\" in c:\\users\\hoolj\\appdata\\local\\programs\\python\\python38-32\\lib\\site-packages (from ipython>=4.0.0; python_version >= \"3.3\"->ipywidgets>=7.0.0->ipyturtle) (0.4.3)\n",
      "Requirement already satisfied: pyzmq>=13 in c:\\users\\hoolj\\appdata\\local\\programs\\python\\python38-32\\lib\\site-packages (from jupyter-client->ipykernel>=4.5.1->ipywidgets>=7.0.0->ipyturtle) (19.0.1)\n",
      "Requirement already satisfied: python-dateutil>=2.1 in c:\\users\\hoolj\\appdata\\local\\programs\\python\\python38-32\\lib\\site-packages (from jupyter-client->ipykernel>=4.5.1->ipywidgets>=7.0.0->ipyturtle) (2.8.1)\n",
      "Requirement already satisfied: pyrsistent>=0.14.0 in c:\\users\\hoolj\\appdata\\local\\programs\\python\\python38-32\\lib\\site-packages (from jsonschema!=2.5.0,>=2.4->nbformat>=4.2.0->ipywidgets>=7.0.0->ipyturtle) (0.16.0)\n",
      "Requirement already satisfied: attrs>=17.4.0 in c:\\users\\hoolj\\appdata\\local\\programs\\python\\python38-32\\lib\\site-packages (from jsonschema!=2.5.0,>=2.4->nbformat>=4.2.0->ipywidgets>=7.0.0->ipyturtle) (19.3.0)\n",
      "Requirement already satisfied: pywin32>=1.0; sys_platform == \"win32\" in c:\\users\\hoolj\\appdata\\local\\programs\\python\\python38-32\\lib\\site-packages (from jupyter-core->nbformat>=4.2.0->ipywidgets>=7.0.0->ipyturtle) (228)\n",
      "Requirement already satisfied: terminado>=0.8.1 in c:\\users\\hoolj\\appdata\\local\\programs\\python\\python38-32\\lib\\site-packages (from notebook>=4.4.1->widgetsnbextension~=3.5.0->ipywidgets>=7.0.0->ipyturtle) (0.8.3)\n",
      "Requirement already satisfied: jinja2 in c:\\users\\hoolj\\appdata\\local\\programs\\python\\python38-32\\lib\\site-packages (from notebook>=4.4.1->widgetsnbextension~=3.5.0->ipywidgets>=7.0.0->ipyturtle) (2.11.2)\n",
      "Requirement already satisfied: nbconvert in c:\\users\\hoolj\\appdata\\local\\programs\\python\\python38-32\\lib\\site-packages (from notebook>=4.4.1->widgetsnbextension~=3.5.0->ipywidgets>=7.0.0->ipyturtle) (5.6.1)\n",
      "Requirement already satisfied: Send2Trash in c:\\users\\hoolj\\appdata\\local\\programs\\python\\python38-32\\lib\\site-packages (from notebook>=4.4.1->widgetsnbextension~=3.5.0->ipywidgets>=7.0.0->ipyturtle) (1.5.0)\n",
      "Requirement already satisfied: prometheus-client in c:\\users\\hoolj\\appdata\\local\\programs\\python\\python38-32\\lib\\site-packages (from notebook>=4.4.1->widgetsnbextension~=3.5.0->ipywidgets>=7.0.0->ipyturtle) (0.8.0)\n",
      "Requirement already satisfied: parso<0.8.0,>=0.7.0 in c:\\users\\hoolj\\appdata\\local\\programs\\python\\python38-32\\lib\\site-packages (from jedi>=0.10->ipython>=4.0.0; python_version >= \"3.3\"->ipywidgets>=7.0.0->ipyturtle) (0.7.0)\n",
      "Requirement already satisfied: wcwidth in c:\\users\\hoolj\\appdata\\local\\programs\\python\\python38-32\\lib\\site-packages (from prompt-toolkit!=3.0.0,!=3.0.1,<3.1.0,>=2.0.0->ipython>=4.0.0; python_version >= \"3.3\"->ipywidgets>=7.0.0->ipyturtle) (0.2.5)\n",
      "Requirement already satisfied: pywinpty>=0.5; os_name == \"nt\" in c:\\users\\hoolj\\appdata\\local\\programs\\python\\python38-32\\lib\\site-packages (from terminado>=0.8.1->notebook>=4.4.1->widgetsnbextension~=3.5.0->ipywidgets>=7.0.0->ipyturtle) (0.5.7)\n",
      "Requirement already satisfied: MarkupSafe>=0.23 in c:\\users\\hoolj\\appdata\\local\\programs\\python\\python38-32\\lib\\site-packages (from jinja2->notebook>=4.4.1->widgetsnbextension~=3.5.0->ipywidgets>=7.0.0->ipyturtle) (1.1.1)\n",
      "Requirement already satisfied: testpath in c:\\users\\hoolj\\appdata\\local\\programs\\python\\python38-32\\lib\\site-packages (from nbconvert->notebook>=4.4.1->widgetsnbextension~=3.5.0->ipywidgets>=7.0.0->ipyturtle) (0.4.4)\n",
      "Requirement already satisfied: defusedxml in c:\\users\\hoolj\\appdata\\local\\programs\\python\\python38-32\\lib\\site-packages (from nbconvert->notebook>=4.4.1->widgetsnbextension~=3.5.0->ipywidgets>=7.0.0->ipyturtle) (0.6.0)\n",
      "Requirement already satisfied: pandocfilters>=1.4.1 in c:\\users\\hoolj\\appdata\\local\\programs\\python\\python38-32\\lib\\site-packages (from nbconvert->notebook>=4.4.1->widgetsnbextension~=3.5.0->ipywidgets>=7.0.0->ipyturtle) (1.4.2)\n",
      "Requirement already satisfied: bleach in c:\\users\\hoolj\\appdata\\local\\programs\\python\\python38-32\\lib\\site-packages (from nbconvert->notebook>=4.4.1->widgetsnbextension~=3.5.0->ipywidgets>=7.0.0->ipyturtle) (3.1.5)\n",
      "Requirement already satisfied: entrypoints>=0.2.2 in c:\\users\\hoolj\\appdata\\local\\programs\\python\\python38-32\\lib\\site-packages (from nbconvert->notebook>=4.4.1->widgetsnbextension~=3.5.0->ipywidgets>=7.0.0->ipyturtle) (0.3)\n",
      "Requirement already satisfied: mistune<2,>=0.8.1 in c:\\users\\hoolj\\appdata\\local\\programs\\python\\python38-32\\lib\\site-packages (from nbconvert->notebook>=4.4.1->widgetsnbextension~=3.5.0->ipywidgets>=7.0.0->ipyturtle) (0.8.4)\n",
      "Requirement already satisfied: packaging in c:\\users\\hoolj\\appdata\\local\\programs\\python\\python38-32\\lib\\site-packages (from bleach->nbconvert->notebook>=4.4.1->widgetsnbextension~=3.5.0->ipywidgets>=7.0.0->ipyturtle) (20.4)\n",
      "Requirement already satisfied: webencodings in c:\\users\\hoolj\\appdata\\local\\programs\\python\\python38-32\\lib\\site-packages (from bleach->nbconvert->notebook>=4.4.1->widgetsnbextension~=3.5.0->ipywidgets>=7.0.0->ipyturtle) (0.5.1)\n",
      "Requirement already satisfied: pyparsing>=2.0.2 in c:\\users\\hoolj\\appdata\\local\\programs\\python\\python38-32\\lib\\site-packages (from packaging->bleach->nbconvert->notebook>=4.4.1->widgetsnbextension~=3.5.0->ipywidgets>=7.0.0->ipyturtle) (2.4.7)\n"
     ]
    },
    {
     "name": "stderr",
     "output_type": "stream",
     "text": [
      "WARNING: You are using pip version 20.1.1; however, version 20.2.3 is available.\n",
      "You should consider upgrading via the 'c:\\users\\hoolj\\appdata\\local\\programs\\python\\python38-32\\python.exe -m pip install --upgrade pip' command.\n",
      "Enabling notebook extension ipyturtle/extension...\n",
      "      - Validating: ok\n"
     ]
    }
   ],
   "source": [
    "!pip install ipyturtle\n",
    "!jupyter nbextension enable --py --sys-prefix ipyturtle"
   ]
  },
  {
   "cell_type": "code",
   "execution_count": 7,
   "metadata": {},
   "outputs": [],
   "source": [
    "from ipyturtle import Turtle\n",
    "t = Turtle()\n",
    "t.forward(100)"
   ]
  }
 ],
 "metadata": {
  "kernelspec": {
   "display_name": "Python 3",
   "language": "python",
   "name": "python3"
  },
  "language_info": {
   "codemirror_mode": {
    "name": "ipython",
    "version": 3
   },
   "file_extension": ".py",
   "mimetype": "text/x-python",
   "name": "python",
   "nbconvert_exporter": "python",
   "pygments_lexer": "ipython3",
   "version": "3.8.3"
  }
 },
 "nbformat": 4,
 "nbformat_minor": 2
}
